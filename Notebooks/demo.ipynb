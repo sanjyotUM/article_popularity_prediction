{
 "cells": [
  {
   "cell_type": "markdown",
   "metadata": {},
   "source": [
    "## Load"
   ]
  },
  {
   "cell_type": "code",
   "execution_count": 219,
   "metadata": {},
   "outputs": [],
   "source": [
    "# Libraries\n",
    "import random\n",
    "import textwrap\n",
    "import pickle \n",
    "\n",
    "import pandas as pd\n",
    "import numpy as np\n",
    "import matplotlib.pyplot as plt\n",
    "import seaborn as sns\n",
    "from IPython.display import display, Markdown\n",
    "\n",
    "%matplotlib inline\n",
    "sns.set_style('whitegrid')\n",
    "pd.set_option('max_colwidth', 300)\n",
    "pd.set_option('max_columns', 100)"
   ]
  },
  {
   "cell_type": "markdown",
   "metadata": {},
   "source": [
    "#### Sections\n",
    "\n",
    "1. Model, library, dataset loading section\n",
    "1. Introduction\n",
    "1. Detailed pipeline diagram\n",
    "1. Choose and display sample article\n",
    "1. Explain and explore base features (correlation, distribution)\n",
    "1. Explain and explore headline features\n",
    "    1. Syntactic\n",
    "    1. Semantic\n",
    "    1. Wikipedia page views of people\n",
    "1. Combined feature vector\n",
    "1. Train models mentioned in original paper\n",
    "1. Get best model and perform grid search\n",
    "1. Train final model\n",
    "1. Summarize performance (accuracy, precision, recall, roc, roc curve plot) and compare with original authors\n",
    "1. Check random predictions"
   ]
  },
  {
   "cell_type": "markdown",
   "metadata": {},
   "source": [
    "## Sample articles"
   ]
  },
  {
   "cell_type": "code",
   "execution_count": 68,
   "metadata": {},
   "outputs": [],
   "source": [
    "dataset_path = '../Datasets/OnlineNewsPopularity-Mashable/final_dataset.csv'"
   ]
  },
  {
   "cell_type": "code",
   "execution_count": 69,
   "metadata": {},
   "outputs": [],
   "source": [
    "df = pd.read_csv(dataset_path)"
   ]
  },
  {
   "cell_type": "code",
   "execution_count": 75,
   "metadata": {},
   "outputs": [],
   "source": [
    "def print_article(mash_article_content):\n",
    "    i = random.randint(0, len(mash_article_content))\n",
    "    headline = mash_article_content.iloc[i, :]['title']\n",
    "    text = mash_article_content.iloc[i, :]['text']\n",
    "    shares = mash_article_content.iloc[i, :]['shares']\n",
    "    display_text = '\\n\\n'\n",
    "    display_text += headline.title()\n",
    "    display_text += '\\n'\n",
    "    display_text += '_' * 70\n",
    "    display_text += '\\n\\n'\n",
    "    display_text += '\\n'.join(textwrap.wrap(text))[:1000]\n",
    "    display_text += '\\n\\nShares: {}'.format(shares)\n",
    "    print(display_text)"
   ]
  },
  {
   "cell_type": "code",
   "execution_count": 76,
   "metadata": {},
   "outputs": [
    {
     "name": "stdout",
     "output_type": "stream",
     "text": [
      "\n",
      "\n",
      "Apple Reportedly Developing Curved Iphone Screens\n",
      "______________________________________________________________________\n",
      "\n",
      "Apple is developing iPhones with curved-glass screens and enhanced\n",
      "sensors that detect different levels of pressure, according to a new\n",
      "report. Two models — with screens of 4.7 inches and 5.5 inches —are in\n",
      "the works, and both would use glass that curves downward at the edges,\n",
      "Bloomberg reported, citing an anonymous source familiar with the\n",
      "plans. These screen sizes almost rival that of Samsung's Galaxy Note\n",
      "3, which boasts a 5.7-inch screen. For its part, Apple's iPhone 5S has\n",
      "a 4-inch screen. See also: Rumor: Apple Planning 5.7-Inch iPhone for\n",
      "2014 The new phones would likely be released in the third quarter of\n",
      "next year, the source said, adding that Apple is also testing\n",
      "\"pressure-sensitive technology,\" which won't be ready for the next\n",
      "iPhone launch.  Curved glass has become a smartphone trend among major\n",
      "tech companies. Samsung released its Galaxy Round phone, which has a\n",
      "5.7-inch curved display, while LG is set to release its G Flex phone,\n",
      "which is curved from top to bottom.  App\n",
      "\n",
      "Shares: 1300\n"
     ]
    }
   ],
   "source": [
    "print_article(df)"
   ]
  },
  {
   "cell_type": "markdown",
   "metadata": {},
   "source": [
    "## Base features"
   ]
  },
  {
   "cell_type": "code",
   "execution_count": 139,
   "metadata": {},
   "outputs": [],
   "source": [
    "base_features = ['n_tokens_title', 'n_tokens_content', 'n_unique_tokens', 'n_non_stop_words', 'n_non_stop_unique_tokens', 'num_hrefs', 'num_self_hrefs', 'num_imgs', 'num_videos', 'average_token_length', 'num_keywords', 'data_channel_is_lifestyle', 'data_channel_is_entertainment', 'data_channel_is_bus', 'data_channel_is_socmed', 'data_channel_is_tech', 'data_channel_is_world', 'kw_min_min', 'kw_max_min', 'kw_avg_min', 'kw_min_max', 'kw_max_max', 'kw_avg_max', 'kw_min_avg', 'kw_max_avg', 'kw_avg_avg', 'self_reference_min_shares', 'self_reference_max_shares', 'self_reference_avg_sharess', 'weekday_is_monday', 'weekday_is_tuesday', 'weekday_is_wednesday', 'weekday_is_thursday', 'weekday_is_friday', 'weekday_is_saturday', 'weekday_is_sunday', 'is_weekend', 'LDA_00', 'LDA_01', 'LDA_02', 'LDA_03', 'LDA_04', 'global_subjectivity', 'global_sentiment_polarity', 'global_rate_positive_words', 'global_rate_negative_words', 'rate_positive_words', 'rate_negative_words', 'avg_positive_polarity', 'min_positive_polarity', 'max_positive_polarity', 'avg_negative_polarity', 'min_negative_polarity', 'max_negative_polarity', 'title_subjectivity', 'title_sentiment_polarity', 'abs_title_subjectivity', 'abs_title_sentiment_polarity', 'shares']"
   ]
  },
  {
   "cell_type": "markdown",
   "metadata": {},
   "source": [
    "                             Base features"
   ]
  },
  {
   "cell_type": "markdown",
   "metadata": {},
   "source": [
    "```\n",
    "     0. url:                           URL of the article\n",
    "     1. timedelta:                     Days between the article publication and\n",
    "                                       the dataset acquisition\n",
    "     2. n_tokens_title:                Number of words in the title\n",
    "     3. n_tokens_content:              Number of words in the content\n",
    "     4. n_unique_tokens:               Rate of unique words in the content\n",
    "     5. n_non_stop_words:              Rate of non-stop words in the content\n",
    "     6. n_non_stop_unique_tokens:      Rate of unique non-stop words in the\n",
    "                                       content\n",
    "     7. num_hrefs:                     Number of links\n",
    "     8. num_self_hrefs:                Number of links to other articles\n",
    "                                       published by Mashable\n",
    "     9. num_imgs:                      Number of images\n",
    "    10. num_videos:                    Number of videos\n",
    "    11. average_token_length:          Average length of the words in the\n",
    "                                       content\n",
    "    12. num_keywords:                  Number of keywords in the metadata\n",
    "    13. data_channel_is_lifestyle:     Is data channel 'Lifestyle'?\n",
    "    14. data_channel_is_entertainment: Is data channel 'Entertainment'?\n",
    "    15. data_channel_is_bus:           Is data channel 'Business'?\n",
    "    16. data_channel_is_socmed:        Is data channel 'Social Media'?\n",
    "    17. data_channel_is_tech:          Is data channel 'Tech'?\n",
    "    18. data_channel_is_world:         Is data channel 'World'?\n",
    "    19. kw_min_min:                    Worst keyword (min. shares)\n",
    "    20. kw_max_min:                    Worst keyword (max. shares)\n",
    "    21. kw_avg_min:                    Worst keyword (avg. shares)\n",
    "    22. kw_min_max:                    Best keyword (min. shares)\n",
    "    23. kw_max_max:                    Best keyword (max. shares)\n",
    "    24. kw_avg_max:                    Best keyword (avg. shares)\n",
    "    25. kw_min_avg:                    Avg. keyword (min. shares)\n",
    "    26. kw_max_avg:                    Avg. keyword (max. shares)\n",
    "    27. kw_avg_avg:                    Avg. keyword (avg. shares)\n",
    "    28. self_reference_min_shares:     Min. shares of referenced articles in\n",
    "                                       Mashable\n",
    "    29. self_reference_max_shares:     Max. shares of referenced articles in\n",
    "                                       Mashable\n",
    "    30. self_reference_avg_sharess:    Avg. shares of referenced articles in\n",
    "                                       Mashable\n",
    "    31. weekday_is_monday:             Was the article published on a Monday?\n",
    "    32. weekday_is_tuesday:            Was the article published on a Tuesday?\n",
    "    33. weekday_is_wednesday:          Was the article published on a Wednesday?\n",
    "    34. weekday_is_thursday:           Was the article published on a Thursday?\n",
    "    35. weekday_is_friday:             Was the article published on a Friday?\n",
    "    36. weekday_is_saturday:           Was the article published on a Saturday?\n",
    "    37. weekday_is_sunday:             Was the article published on a Sunday?\n",
    "    38. is_weekend:                    Was the article published on the weekend?\n",
    "    39. LDA_00:                        Closeness to LDA topic 0\n",
    "    40. LDA_01:                        Closeness to LDA topic 1\n",
    "    41. LDA_02:                        Closeness to LDA topic 2\n",
    "    42. LDA_03:                        Closeness to LDA topic 3\n",
    "    43. LDA_04:                        Closeness to LDA topic 4\n",
    "    44. global_subjectivity:           Text subjectivity\n",
    "    45. global_sentiment_polarity:     Text sentiment polarity\n",
    "    46. global_rate_positive_words:    Rate of positive words in the content\n",
    "    47. global_rate_negative_words:    Rate of negative words in the content\n",
    "    48. rate_positive_words:           Rate of positive words among non-neutral\n",
    "                                       tokens\n",
    "    49. rate_negative_words:           Rate of negative words among non-neutral\n",
    "                                       tokens\n",
    "    50. avg_positive_polarity:         Avg. polarity of positive words\n",
    "    51. min_positive_polarity:         Min. polarity of positive words\n",
    "    52. max_positive_polarity:         Max. polarity of positive words\n",
    "    53. avg_negative_polarity:         Avg. polarity of negative  words\n",
    "    54. min_negative_polarity:         Min. polarity of negative  words\n",
    "    55. max_negative_polarity:         Max. polarity of negative  words\n",
    "    56. title_subjectivity:            Title subjectivity\n",
    "    57. title_sentiment_polarity:      Title polarity\n",
    "    58. abs_title_subjectivity:        Absolute subjectivity level\n",
    "    59. abs_title_sentiment_polarity:  Absolute polarity level\n",
    "    60. shares:                        Number of shares (target)\n",
    "```"
   ]
  },
  {
   "cell_type": "markdown",
   "metadata": {},
   "source": [
    "## Feature exploration"
   ]
  },
  {
   "cell_type": "markdown",
   "metadata": {},
   "source": [
    "### Feature correlation with target labels"
   ]
  },
  {
   "cell_type": "code",
   "execution_count": 105,
   "metadata": {},
   "outputs": [
    {
     "data": {
      "text/plain": [
       "<matplotlib.axes._subplots.AxesSubplot at 0x7f9028cccdd0>"
      ]
     },
     "execution_count": 105,
     "metadata": {},
     "output_type": "execute_result"
    },
    {
     "data": {
      "image/png": "[encoded data removed]",
      "text/plain": [
       "<Figure size 1440x288 with 1 Axes>"
      ]
     },
     "metadata": {
      "needs_background": "light"
     },
     "output_type": "display_data"
    }
   ],
   "source": [
    "corr = df[base_features].corr()\n",
    "share_corr = corr.loc['shares'].sort_values(ascending=True).drop('shares')\n",
    "\n",
    "fig, ax = plt.subplots(figsize=(20, 4))\n",
    "share_corr.plot(ax=ax, kind='bar')"
   ]
  },
  {
   "cell_type": "markdown",
   "metadata": {},
   "source": [
    "### Day of week variation"
   ]
  },
  {
   "cell_type": "code",
   "execution_count": null,
   "metadata": {},
   "outputs": [],
   "source": [
    "df.pivot_table()"
   ]
  },
  {
   "cell_type": "code",
   "execution_count": 110,
   "metadata": {},
   "outputs": [
    {
     "ename": "TypeError",
     "evalue": "wide_to_long() missing 2 required positional arguments: 'i' and 'j'",
     "output_type": "error",
     "traceback": [
      "\u001b[0;31m---------------------------------------------------------------------------\u001b[0m",
      "\u001b[0;31mTypeError\u001b[0m                                 Traceback (most recent call last)",
      "\u001b[0;32m<ipython-input-110-c7828b1ec01e>\u001b[0m in \u001b[0;36m<module>\u001b[0;34m\u001b[0m\n\u001b[1;32m     13\u001b[0m )\n\u001b[1;32m     14\u001b[0m \u001b[0;34m\u001b[0m\u001b[0m\n\u001b[0;32m---> 15\u001b[0;31m \u001b[0mdow\u001b[0m \u001b[0;34m=\u001b[0m \u001b[0mpd\u001b[0m\u001b[0;34m.\u001b[0m\u001b[0mwide_to_long\u001b[0m\u001b[0;34m(\u001b[0m\u001b[0mdf\u001b[0m\u001b[0;34m,\u001b[0m \u001b[0mstubnames\u001b[0m\u001b[0;34m=\u001b[0m\u001b[0;34m'weekday_is'\u001b[0m\u001b[0;34m)\u001b[0m\u001b[0;34m\u001b[0m\u001b[0;34m\u001b[0m\u001b[0m\n\u001b[0m\u001b[1;32m     16\u001b[0m \u001b[0;34m\u001b[0m\u001b[0m\n\u001b[1;32m     17\u001b[0m \u001b[0mdow\u001b[0m\u001b[0;34m.\u001b[0m\u001b[0mhead\u001b[0m\u001b[0;34m(\u001b[0m\u001b[0;34m)\u001b[0m\u001b[0;34m\u001b[0m\u001b[0;34m\u001b[0m\u001b[0m\n",
      "\u001b[0;31mTypeError\u001b[0m: wide_to_long() missing 2 required positional arguments: 'i' and 'j'"
     ]
    }
   ],
   "source": [
    "dow_cols = ['weekday_is_sunday',\n",
    "            'weekday_is_monday',\n",
    "            'weekday_is_tuesday',\n",
    "            'weekday_is_wednesday',\n",
    "            'weekday_is_thursday',\n",
    "            'weekday_is_friday',\n",
    "            'weekday_is_saturday',]\n",
    "\n",
    "dow = (\n",
    "    df\n",
    "    [dow_cols + ['shares']]\n",
    "    .assign(popular = lambda x: x['shares'] > 1400)\n",
    ")\n",
    "\n",
    "dow = pd.wide_to_long(df, stubnames='weekday_is')\n",
    "\n",
    "dow.head()"
   ]
  },
  {
   "cell_type": "code",
   "execution_count": 111,
   "metadata": {},
   "outputs": [
    {
     "data": {
      "text/html": [
       "<div>\n",
       "<style scoped>\n",
       "    .dataframe tbody tr th:only-of-type {\n",
       "        vertical-align: middle;\n",
       "    }\n",
       "\n",
       "    .dataframe tbody tr th {\n",
       "        vertical-align: top;\n",
       "    }\n",
       "\n",
       "    .dataframe thead th {\n",
       "        text-align: right;\n",
       "    }\n",
       "</style>\n",
       "<table border=\"1\" class=\"dataframe\">\n",
       "  <thead>\n",
       "    <tr style=\"text-align: right;\">\n",
       "      <th></th>\n",
       "      <th>weekday_is_sunday</th>\n",
       "      <th>weekday_is_monday</th>\n",
       "      <th>weekday_is_tuesday</th>\n",
       "      <th>weekday_is_wednesday</th>\n",
       "      <th>weekday_is_thursday</th>\n",
       "      <th>weekday_is_friday</th>\n",
       "      <th>weekday_is_saturday</th>\n",
       "      <th>shares</th>\n",
       "      <th>popular</th>\n",
       "    </tr>\n",
       "  </thead>\n",
       "  <tbody>\n",
       "    <tr>\n",
       "      <td>0</td>\n",
       "      <td>0.0</td>\n",
       "      <td>1.0</td>\n",
       "      <td>0.0</td>\n",
       "      <td>0.0</td>\n",
       "      <td>0.0</td>\n",
       "      <td>0.0</td>\n",
       "      <td>0.0</td>\n",
       "      <td>593</td>\n",
       "      <td>False</td>\n",
       "    </tr>\n",
       "    <tr>\n",
       "      <td>1</td>\n",
       "      <td>0.0</td>\n",
       "      <td>1.0</td>\n",
       "      <td>0.0</td>\n",
       "      <td>0.0</td>\n",
       "      <td>0.0</td>\n",
       "      <td>0.0</td>\n",
       "      <td>0.0</td>\n",
       "      <td>711</td>\n",
       "      <td>False</td>\n",
       "    </tr>\n",
       "    <tr>\n",
       "      <td>2</td>\n",
       "      <td>0.0</td>\n",
       "      <td>1.0</td>\n",
       "      <td>0.0</td>\n",
       "      <td>0.0</td>\n",
       "      <td>0.0</td>\n",
       "      <td>0.0</td>\n",
       "      <td>0.0</td>\n",
       "      <td>1500</td>\n",
       "      <td>True</td>\n",
       "    </tr>\n",
       "    <tr>\n",
       "      <td>3</td>\n",
       "      <td>0.0</td>\n",
       "      <td>1.0</td>\n",
       "      <td>0.0</td>\n",
       "      <td>0.0</td>\n",
       "      <td>0.0</td>\n",
       "      <td>0.0</td>\n",
       "      <td>0.0</td>\n",
       "      <td>1200</td>\n",
       "      <td>False</td>\n",
       "    </tr>\n",
       "    <tr>\n",
       "      <td>4</td>\n",
       "      <td>0.0</td>\n",
       "      <td>1.0</td>\n",
       "      <td>0.0</td>\n",
       "      <td>0.0</td>\n",
       "      <td>0.0</td>\n",
       "      <td>0.0</td>\n",
       "      <td>0.0</td>\n",
       "      <td>505</td>\n",
       "      <td>False</td>\n",
       "    </tr>\n",
       "  </tbody>\n",
       "</table>\n",
       "</div>"
      ],
      "text/plain": [
       "   weekday_is_sunday  weekday_is_monday  weekday_is_tuesday  \\\n",
       "0                0.0                1.0                 0.0   \n",
       "1                0.0                1.0                 0.0   \n",
       "2                0.0                1.0                 0.0   \n",
       "3                0.0                1.0                 0.0   \n",
       "4                0.0                1.0                 0.0   \n",
       "\n",
       "   weekday_is_wednesday  weekday_is_thursday  weekday_is_friday  \\\n",
       "0                   0.0                  0.0                0.0   \n",
       "1                   0.0                  0.0                0.0   \n",
       "2                   0.0                  0.0                0.0   \n",
       "3                   0.0                  0.0                0.0   \n",
       "4                   0.0                  0.0                0.0   \n",
       "\n",
       "   weekday_is_saturday  shares  popular  \n",
       "0                  0.0     593    False  \n",
       "1                  0.0     711    False  \n",
       "2                  0.0    1500     True  \n",
       "3                  0.0    1200    False  \n",
       "4                  0.0     505    False  "
      ]
     },
     "execution_count": 111,
     "metadata": {},
     "output_type": "execute_result"
    }
   ],
   "source": [
    "dow.head()"
   ]
  },
  {
   "cell_type": "markdown",
   "metadata": {},
   "source": [
    "## Training"
   ]
  },
  {
   "cell_type": "code",
   "execution_count": 131,
   "metadata": {},
   "outputs": [],
   "source": [
    "# Label is positive if shares > 1400\n",
    "df['popular'] = df['shares'] > 1400"
   ]
  },
  {
   "cell_type": "code",
   "execution_count": 202,
   "metadata": {},
   "outputs": [],
   "source": [
    "from sklearn.ensemble import RandomForestClassifier\n",
    "from sklearn.ensemble import AdaBoostClassifier\n",
    "from sklearn.linear_model import LogisticRegression\n",
    "from sklearn.model_selection import train_test_split\n",
    "from sklearn.model_selection import GridSearchCV\n",
    "\n",
    "from sklearn.metrics import accuracy_score, roc_auc_score, roc_curve, f1_score"
   ]
  },
  {
   "cell_type": "code",
   "execution_count": 195,
   "metadata": {},
   "outputs": [],
   "source": [
    "# Base features\n",
    "base_features = ['n_tokens_title', 'n_tokens_content', 'n_unique_tokens', 'n_non_stop_words', 'n_non_stop_unique_tokens', 'num_hrefs', 'num_self_hrefs', 'num_imgs', 'num_videos', 'average_token_length', 'num_keywords', 'data_channel_is_lifestyle', 'data_channel_is_entertainment', 'data_channel_is_bus', 'data_channel_is_socmed', 'data_channel_is_tech', 'data_channel_is_world', 'kw_min_min', 'kw_max_min', 'kw_avg_min', 'kw_min_max', 'kw_max_max', 'kw_avg_max', 'kw_min_avg', 'kw_max_avg', 'kw_avg_avg', 'self_reference_min_shares', 'self_reference_max_shares', 'self_reference_avg_sharess', 'weekday_is_monday', 'weekday_is_tuesday', 'weekday_is_wednesday', 'weekday_is_thursday', 'weekday_is_friday', 'weekday_is_saturday', 'weekday_is_sunday', 'is_weekend', 'LDA_00', 'LDA_01', 'LDA_02', 'LDA_03', 'LDA_04', 'global_subjectivity', 'global_sentiment_polarity', 'global_rate_positive_words', 'global_rate_negative_words', 'rate_positive_words', 'rate_negative_words', 'avg_positive_polarity', 'min_positive_polarity', 'max_positive_polarity', 'avg_negative_polarity', 'min_negative_polarity', 'max_negative_polarity', 'title_subjectivity', 'title_sentiment_polarity', 'abs_title_subjectivity', 'abs_title_sentiment_polarity']\n",
    "\n",
    "\n",
    "# Headline features\n",
    "syntactic_features = ['total_tokens', 'avg_token_len', 'title_case_tokens', \n",
    "                      'upper_case_tokens', 'exclamation_token', 'question_mark_token', \n",
    "                      'quote_mark_token']\n",
    "semantic_features = ['three_consec_nouns', 'noun_percentage', 'proper_noun_percentage', \n",
    "                     'verb_percentage' ,'adverb_percentage', 'adjective_percentage', \n",
    "                     'interjection', 'non_stop_percentage']\n",
    "wiki_features = ['wiki_score']\n",
    "\n",
    "# Final features\n",
    "final_features = base_features + syntactic_features + semantic_features + wiki_features\n",
    "label = 'popular'"
   ]
  },
  {
   "cell_type": "code",
   "execution_count": 176,
   "metadata": {},
   "outputs": [],
   "source": [
    "X = df[final_features]\n",
    "y = df[label]\n",
    "\n",
    "X_train, X_test, y_train, y_test = train_test_split(X, y, test_size=0.25, random_state=42)"
   ]
  },
  {
   "cell_type": "code",
   "execution_count": 198,
   "metadata": {},
   "outputs": [],
   "source": [
    "# Initialize classifiers\n",
    "clf_LR = LogisticRegression(random_state=42)\n",
    "parameters_LR = {\n",
    "    \"penalty\": ['l1','l2'],\n",
    "    \"C\": [0.1, 0.5, 1., 2., 2.5, 5]\n",
    "}\n",
    "\n",
    "clf_RF = RandomForestClassifier(random_state=42)\n",
    "parameters_RF = {\n",
    "    \"n_estimators\": [10, 20, 50, 100, 250],\n",
    "    'max_depth': [2, 4, 6, 8, 10]\n",
    "}\n",
    "\n",
    "clf_AD = AdaBoostClassifier(random_state=42)\n",
    "parameters_ADA = {\n",
    "    \"n_estimators\": [50, 100,200,300],\n",
    "    \"learning_rate\": [0.1, 0.5, 1]\n",
    "}\n",
    "\n",
    "classifiers = [clf_LR, clf_RF, clf_AD]\n",
    "parameters = [parameters_LR, parameters_RF, parameters_ADA]"
   ]
  },
  {
   "cell_type": "code",
   "execution_count": 200,
   "metadata": {},
   "outputs": [],
   "source": [
    "def fit_predict_evaluate(gs_clf, X_train=X_train, y_train=y_train, X_test=X_test, y_test=y_test):\n",
    "    gs_clf.fit(X_train, y_train)\n",
    "    \n",
    "    pred_train = gs_clf.predict(X_train)\n",
    "    pred_test = gs_clf.predict(X_test)\n",
    "    pred_train_prob = gs_clf.predict_proba(X_train)\n",
    "    pred_test_prob = gs_clf.predict_proba(X_test)\n",
    "    \n",
    "    accuracy_test = accuracy_score(y_test, pred_test)\n",
    "    accuracy_train = accuracy_score(y_train, pred_train)\n",
    "    f1 = f1_score(y_test, pred_test)\n",
    "    auroc = roc_auc_score(y_test, pred_test_prob[:, 1])\n",
    "    res = {'train_accuracy': accuracy_train, 'test_accuracy': accuracy_test, 'f1': f1, 'auroc': auroc}\n",
    "    return gs_clf.best_estimator_, res"
   ]
  },
  {
   "cell_type": "code",
   "execution_count": 214,
   "metadata": {},
   "outputs": [],
   "source": [
    "trained_classifiers = {}\n",
    "results = {}"
   ]
  },
  {
   "cell_type": "code",
   "execution_count": 215,
   "metadata": {},
   "outputs": [
    {
     "name": "stdout",
     "output_type": "stream",
     "text": [
      "Fitting 5 folds for each of 12 candidates, totalling 60 fits\n"
     ]
    },
    {
     "name": "stderr",
     "output_type": "stream",
     "text": [
      "[Parallel(n_jobs=-1)]: Using backend LokyBackend with 8 concurrent workers.\n",
      "[Parallel(n_jobs=-1)]: Done   2 tasks      | elapsed:   14.3s\n",
      "[Parallel(n_jobs=-1)]: Done  58 out of  60 | elapsed:  3.0min remaining:    6.2s\n",
      "[Parallel(n_jobs=-1)]: Done  60 out of  60 | elapsed:  3.1min finished\n",
      "/home/sanjyot/miniconda3/envs/prnn/lib/python3.7/site-packages/sklearn/linear_model/logistic.py:432: FutureWarning: Default solver will be changed to 'lbfgs' in 0.22. Specify a solver to silence this warning.\n",
      "  FutureWarning)\n"
     ]
    },
    {
     "name": "stdout",
     "output_type": "stream",
     "text": [
      "Fitting 5 folds for each of 30 candidates, totalling 150 fits\n"
     ]
    },
    {
     "name": "stderr",
     "output_type": "stream",
     "text": [
      "[Parallel(n_jobs=-1)]: Using backend LokyBackend with 8 concurrent workers.\n",
      "[Parallel(n_jobs=-1)]: Done   2 tasks      | elapsed:    1.0s\n",
      "[Parallel(n_jobs=-1)]: Done  56 tasks      | elapsed:   39.4s\n",
      "[Parallel(n_jobs=-1)]: Done 150 out of 150 | elapsed:  3.9min finished\n"
     ]
    },
    {
     "name": "stdout",
     "output_type": "stream",
     "text": [
      "Fitting 5 folds for each of 12 candidates, totalling 60 fits\n"
     ]
    },
    {
     "name": "stderr",
     "output_type": "stream",
     "text": [
      "[Parallel(n_jobs=-1)]: Using backend LokyBackend with 8 concurrent workers.\n",
      "[Parallel(n_jobs=-1)]: Done   2 tasks      | elapsed:   30.2s\n",
      "[Parallel(n_jobs=-1)]: Done  58 out of  60 | elapsed:  9.7min remaining:   20.1s\n",
      "[Parallel(n_jobs=-1)]: Done  60 out of  60 | elapsed: 10.2min finished\n"
     ]
    }
   ],
   "source": [
    "for clf, params in zip(classifiers, parameters):\n",
    "    gs_clf = GridSearchCV(clf, params, n_jobs=-1, verbose=5, cv=5)\n",
    "    clf_LR, res = fit_predict_evaluate(gs_clf)\n",
    "    trained_classifiers[clf_LR.__class__.__name__] = clf_LR\n",
    "    results[clf_LR.__class__.__name__] = res"
   ]
  },
  {
   "cell_type": "markdown",
   "metadata": {},
   "source": [
    "## Results"
   ]
  },
  {
   "cell_type": "code",
   "execution_count": 216,
   "metadata": {},
   "outputs": [
    {
     "data": {
      "text/plain": [
       "{'LogisticRegression': LogisticRegression(C=5, class_weight=None, dual=False, fit_intercept=True,\n",
       "                    intercept_scaling=1, l1_ratio=None, max_iter=100,\n",
       "                    multi_class='warn', n_jobs=None, penalty='l1',\n",
       "                    random_state=42, solver='warn', tol=0.0001, verbose=0,\n",
       "                    warm_start=False),\n",
       " 'RandomForestClassifier': RandomForestClassifier(bootstrap=True, class_weight=None, criterion='gini',\n",
       "                        max_depth=10, max_features='auto', max_leaf_nodes=None,\n",
       "                        min_impurity_decrease=0.0, min_impurity_split=None,\n",
       "                        min_samples_leaf=1, min_samples_split=2,\n",
       "                        min_weight_fraction_leaf=0.0, n_estimators=500,\n",
       "                        n_jobs=None, oob_score=False, random_state=42, verbose=0,\n",
       "                        warm_start=False),\n",
       " 'AdaBoostClassifier': AdaBoostClassifier(algorithm='SAMME.R', base_estimator=None, learning_rate=0.5,\n",
       "                    n_estimators=300, random_state=42)}"
      ]
     },
     "execution_count": 216,
     "metadata": {},
     "output_type": "execute_result"
    }
   ],
   "source": [
    "trained_classifiers"
   ]
  },
  {
   "cell_type": "code",
   "execution_count": 220,
   "metadata": {},
   "outputs": [],
   "source": [
    "with open('../Models/best_models.pkl', 'wb') as f:\n",
    "    pickle.dump(trained_classifiers, f)"
   ]
  },
  {
   "cell_type": "code",
   "execution_count": 221,
   "metadata": {},
   "outputs": [
    {
     "data": {
      "text/html": [
       "<div>\n",
       "<style scoped>\n",
       "    .dataframe tbody tr th:only-of-type {\n",
       "        vertical-align: middle;\n",
       "    }\n",
       "\n",
       "    .dataframe tbody tr th {\n",
       "        vertical-align: top;\n",
       "    }\n",
       "\n",
       "    .dataframe thead th {\n",
       "        text-align: right;\n",
       "    }\n",
       "</style>\n",
       "<table border=\"1\" class=\"dataframe\">\n",
       "  <thead>\n",
       "    <tr style=\"text-align: right;\">\n",
       "      <th></th>\n",
       "      <th>LogisticRegression</th>\n",
       "      <th>RandomForestClassifier</th>\n",
       "      <th>AdaBoostClassifier</th>\n",
       "    </tr>\n",
       "  </thead>\n",
       "  <tbody>\n",
       "    <tr>\n",
       "      <td>train_accuracy</td>\n",
       "      <td>0.652470</td>\n",
       "      <td>0.776266</td>\n",
       "      <td>0.675988</td>\n",
       "    </tr>\n",
       "    <tr>\n",
       "      <td>test_accuracy</td>\n",
       "      <td>0.649801</td>\n",
       "      <td>0.664766</td>\n",
       "      <td>0.663341</td>\n",
       "    </tr>\n",
       "    <tr>\n",
       "      <td>f1</td>\n",
       "      <td>0.637666</td>\n",
       "      <td>0.662291</td>\n",
       "      <td>0.658262</td>\n",
       "    </tr>\n",
       "    <tr>\n",
       "      <td>auroc</td>\n",
       "      <td>0.701662</td>\n",
       "      <td>0.721576</td>\n",
       "      <td>0.721497</td>\n",
       "    </tr>\n",
       "  </tbody>\n",
       "</table>\n",
       "</div>"
      ],
      "text/plain": [
       "                LogisticRegression  RandomForestClassifier  AdaBoostClassifier\n",
       "train_accuracy            0.652470                0.776266            0.675988\n",
       "test_accuracy             0.649801                0.664766            0.663341\n",
       "f1                        0.637666                0.662291            0.658262\n",
       "auroc                     0.701662                0.721576            0.721497"
      ]
     },
     "execution_count": 221,
     "metadata": {},
     "output_type": "execute_result"
    }
   ],
   "source": [
    "results_df = pd.DataFrame(results)\n",
    "results_df"
   ]
  },
  {
   "cell_type": "code",
   "execution_count": 222,
   "metadata": {},
   "outputs": [],
   "source": [
    "results_df.to_csv('classifier_results.csv', index=False)"
   ]
  }
 ],
 "metadata": {
  "kernelspec": {
   "display_name": "Python 3",
   "language": "python",
   "name": "python3"
  },
  "language_info": {
   "codemirror_mode": {
    "name": "ipython",
    "version": 3
   },
   "file_extension": ".py",
   "mimetype": "text/x-python",
   "name": "python",
   "nbconvert_exporter": "python",
   "pygments_lexer": "ipython3",
   "version": "3.7.4"
  }
 },
 "nbformat": 4,
 "nbformat_minor": 4
}
