{
 "cells": [
  {
   "cell_type": "code",
   "execution_count": 1,
   "metadata": {},
   "outputs": [],
   "source": [
    "import time\n",
    "import sys\n",
    "import csv\n",
    "from concurrent.futures import ThreadPoolExecutor as PoolExecutor\n",
    "\n",
    "from tqdm import tqdm\n",
    "import pandas as pd\n",
    "pd.set_option('max_colwidth', 300)\n",
    "\n",
    "from theguardian import theguardian_content"
   ]
  },
  {
   "cell_type": "code",
   "execution_count": 2,
   "metadata": {},
   "outputs": [],
   "source": [
    "features_path = '../Datasets/Headlines/guardian_main_model/guardian_train.csv'\n",
    "labels_path = '../Datasets/Headlines/guardian_popularity_measures/guardian_train_popularity.csv'\n",
    "headline_path = '../Datasets/Headlines/guardian_headlines/headlines.csv'"
   ]
  },
  {
   "cell_type": "code",
   "execution_count": 3,
   "metadata": {},
   "outputs": [],
   "source": [
    "guar = pd.read_csv(features_path)\n",
    "popularity = pd.read_csv(labels_path)"
   ]
  },
  {
   "cell_type": "code",
   "execution_count": 4,
   "metadata": {},
   "outputs": [],
   "source": [
    "apikey = 'bcbe869c-83c9-4084-b72e-bd2af0e6f6ae'"
   ]
  },
  {
   "cell_type": "code",
   "execution_count": 5,
   "metadata": {},
   "outputs": [],
   "source": [
    "articles = guar['article_id'].tolist()"
   ]
  },
  {
   "cell_type": "code",
   "execution_count": 6,
   "metadata": {},
   "outputs": [],
   "source": [
    "def append_to_headlines(articleid, section_name, publish_date, title, fileobj):\n",
    "    w = csv.writer(fileobj, delimiter='|')\n",
    "    try:\n",
    "        w.writerow([articleid, section_name, publish_date, title])\n",
    "    except Exception as e:\n",
    "        print('Exception: {}'.format(e))\n",
    "    return"
   ]
  },
  {
   "cell_type": "code",
   "execution_count": 7,
   "metadata": {},
   "outputs": [],
   "source": [
    "def write_headlines(dfid):\n",
    "    url = 'https://content.guardianapis.com/{}'.format(dfid)\n",
    "\n",
    "    content = theguardian_content.Content(api=apikey, url=url)\n",
    "    raw_content = content.get_request_response()\n",
    "\n",
    "    day_count = int(raw_content.headers['X-RateLimit-Remaining-day'])\n",
    "    minute_count = int(raw_content.headers['X-RateLimit-Remaining-minute'])\n",
    "    print('Day count: {} | Minute count: {}'.format(day_count, minute_count))\n",
    "\n",
    "    if day_count < 50:\n",
    "        print('API call daily limit reached. Exiting')\n",
    "        try:\n",
    "            sys.exit()\n",
    "        except:\n",
    "            exit\n",
    "    elif minute_count < 20:\n",
    "        print('Pausing to avoid crossing minute limit')\n",
    "        time.sleep(70)  \n",
    "    elif raw_content.status_code == 200:\n",
    "        j = raw_content.json()\n",
    "        try:\n",
    "            articleid = j['response']['content']['id']\n",
    "            section_name = j['response']['content']['sectionName']\n",
    "            publish_date = j['response']['content']['webPublicationDate']\n",
    "            title = j['response']['content']['webTitle']\n",
    "#             append_to_headlines(articleid, section_name, publish_date, title, f)\n",
    "        except Exception as e:\n",
    "            pass\n",
    "            print('Exception: {}'.format(e))\n",
    "            print('Happened at: {}'.format(url))\n",
    "    else:\n",
    "        pass\n",
    "        print('Detected status code: {}'.format(raw_content.status_code))\n",
    "        print('For request: {}'.format(url))\n",
    "    return raw_content"
   ]
  },
  {
   "cell_type": "code",
   "execution_count": 10,
   "metadata": {},
   "outputs": [
    {
     "name": "stdout",
     "output_type": "stream",
     "text": [
      "Day count: 419 | Minute count: 719\n",
      "Day count: 452 | Minute count: 719\n",
      "Day count: 310 | Minute count: 719\n",
      "Day count: 418 | Minute count: 718\n",
      "Day count: 451 | Minute count: 718\n"
     ]
    }
   ],
   "source": [
    "test_list = articles[:5]\n",
    "\n",
    "with open(headline_path, 'a') as f:\n",
    "    with PoolExecutor(max_workers=10) as executor:\n",
    "        for i, _ in enumerate(executor.map(write_headlines, test_list)):\n",
    "#             if i % 10 == 0:\n",
    "#                 print('Headlines done: {}'.format(i))\n",
    "            pass"
   ]
  },
  {
   "cell_type": "code",
   "execution_count": null,
   "metadata": {},
   "outputs": [],
   "source": []
  }
 ],
 "metadata": {
  "kernelspec": {
   "display_name": "Python 3",
   "language": "python",
   "name": "python3"
  },
  "language_info": {
   "codemirror_mode": {
    "name": "ipython",
    "version": 3
   },
   "file_extension": ".py",
   "mimetype": "text/x-python",
   "name": "python",
   "nbconvert_exporter": "python",
   "pygments_lexer": "ipython3",
   "version": "3.7.4"
  }
 },
 "nbformat": 4,
 "nbformat_minor": 4
}
